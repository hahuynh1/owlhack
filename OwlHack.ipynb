{
 "cells": [
  {
   "cell_type": "markdown",
   "id": "47402341",
   "metadata": {},
   "source": [
    "# Philly Crime Data"
   ]
  },
  {
   "cell_type": "code",
   "execution_count": 2,
   "id": "a89678e4",
   "metadata": {},
   "outputs": [],
   "source": [
    "import pandas as pd\n",
    "import seaborn as sns\n",
    "import matplotlib.pyplot as plt"
   ]
  },
  {
   "cell_type": "code",
   "execution_count": 3,
   "id": "1adedc57",
   "metadata": {},
   "outputs": [
    {
     "data": {
      "text/html": [
       "<div>\n",
       "<style scoped>\n",
       "    .dataframe tbody tr th:only-of-type {\n",
       "        vertical-align: middle;\n",
       "    }\n",
       "\n",
       "    .dataframe tbody tr th {\n",
       "        vertical-align: top;\n",
       "    }\n",
       "\n",
       "    .dataframe thead th {\n",
       "        text-align: right;\n",
       "    }\n",
       "</style>\n",
       "<table border=\"1\" class=\"dataframe\">\n",
       "  <thead>\n",
       "    <tr style=\"text-align: right;\">\n",
       "      <th></th>\n",
       "      <th>the_geom</th>\n",
       "      <th>cartodb_id</th>\n",
       "      <th>the_geom_webmercator</th>\n",
       "      <th>objectid</th>\n",
       "      <th>dc_dist</th>\n",
       "      <th>psa</th>\n",
       "      <th>dispatch_date_time</th>\n",
       "      <th>dispatch_date</th>\n",
       "      <th>dispatch_time</th>\n",
       "      <th>hour_</th>\n",
       "      <th>dc_key</th>\n",
       "      <th>location_block</th>\n",
       "      <th>ucr_general</th>\n",
       "      <th>text_general_code</th>\n",
       "      <th>point_x</th>\n",
       "      <th>point_y</th>\n",
       "    </tr>\n",
       "  </thead>\n",
       "  <tbody>\n",
       "    <tr>\n",
       "      <th>0</th>\n",
       "      <td>0101000020E6100000D838EED62ABF52C054C37E4FAC08...</td>\n",
       "      <td>3023575</td>\n",
       "      <td>0101000020110F00009786C060DED75FC1EFEEAA698499...</td>\n",
       "      <td>6399303</td>\n",
       "      <td>8</td>\n",
       "      <td>2</td>\n",
       "      <td>2023-02-10 01:54:00+00</td>\n",
       "      <td>2023-02-09</td>\n",
       "      <td>20:54:00</td>\n",
       "      <td>NaN</td>\n",
       "      <td>202308004815</td>\n",
       "      <td>3700 BLOCK S HEREFORD LA</td>\n",
       "      <td>800</td>\n",
       "      <td>Other Assaults</td>\n",
       "      <td>-74.986990</td>\n",
       "      <td>40.067758</td>\n",
       "    </tr>\n",
       "    <tr>\n",
       "      <th>1</th>\n",
       "      <td>0101000020E6100000100DE60ACACA52C006348DFD1707...</td>\n",
       "      <td>3023458</td>\n",
       "      <td>0101000020110F00002B87430F9CEB5FC1D749BDBEC397...</td>\n",
       "      <td>6391896</td>\n",
       "      <td>14</td>\n",
       "      <td>1</td>\n",
       "      <td>2023-02-10 01:43:00+00</td>\n",
       "      <td>2023-02-09</td>\n",
       "      <td>20:43:00</td>\n",
       "      <td>NaN</td>\n",
       "      <td>202314007169</td>\n",
       "      <td>6300 BLOCK MILTON ST</td>\n",
       "      <td>2600</td>\n",
       "      <td>All Other Offenses</td>\n",
       "      <td>-75.168582</td>\n",
       "      <td>40.055420</td>\n",
       "    </tr>\n",
       "    <tr>\n",
       "      <th>2</th>\n",
       "      <td>0101000020E6100000484E899810C952C08209922D0107...</td>\n",
       "      <td>3023423</td>\n",
       "      <td>0101000020110F00001F97CA37AEE85FC117CED26EAA97...</td>\n",
       "      <td>6392800</td>\n",
       "      <td>35</td>\n",
       "      <td>1</td>\n",
       "      <td>2023-02-10 01:33:00+00</td>\n",
       "      <td>2023-02-09</td>\n",
       "      <td>20:33:00</td>\n",
       "      <td>NaN</td>\n",
       "      <td>202335009116</td>\n",
       "      <td>6600 BLOCK N BROAD ST</td>\n",
       "      <td>800</td>\n",
       "      <td>Other Assaults</td>\n",
       "      <td>-75.141638</td>\n",
       "      <td>40.054723</td>\n",
       "    </tr>\n",
       "    <tr>\n",
       "      <th>3</th>\n",
       "      <td>0101000020E6100000C79AD35D80CA52C0FFF06FA75FFE...</td>\n",
       "      <td>3023518</td>\n",
       "      <td>0101000020110F00000ABED5E91EEB5FC1FE0D6804188E...</td>\n",
       "      <td>6394818</td>\n",
       "      <td>22</td>\n",
       "      <td>1</td>\n",
       "      <td>2023-02-10 01:19:00+00</td>\n",
       "      <td>2023-02-09</td>\n",
       "      <td>20:19:00</td>\n",
       "      <td>NaN</td>\n",
       "      <td>202322008012</td>\n",
       "      <td>1800 BLOCK W SUSQUEHANNA AV</td>\n",
       "      <td>1800</td>\n",
       "      <td>Narcotic / Drug Law Violations</td>\n",
       "      <td>-75.164085</td>\n",
       "      <td>39.987294</td>\n",
       "    </tr>\n",
       "    <tr>\n",
       "      <th>4</th>\n",
       "      <td>0101000020E6100000B7EF728DA6CE52C0E392FCEB8906...</td>\n",
       "      <td>3023485</td>\n",
       "      <td>0101000020110F00002D2BAD242BF25FC17F6AF01C2697...</td>\n",
       "      <td>6399017</td>\n",
       "      <td>5</td>\n",
       "      <td>3</td>\n",
       "      <td>2023-02-10 00:58:00+00</td>\n",
       "      <td>2023-02-09</td>\n",
       "      <td>19:58:00</td>\n",
       "      <td>NaN</td>\n",
       "      <td>202305001798</td>\n",
       "      <td>600 BLOCK RENZ ST</td>\n",
       "      <td>1100</td>\n",
       "      <td>Fraud</td>\n",
       "      <td>-75.228916</td>\n",
       "      <td>40.051084</td>\n",
       "    </tr>\n",
       "    <tr>\n",
       "      <th>...</th>\n",
       "      <td>...</td>\n",
       "      <td>...</td>\n",
       "      <td>...</td>\n",
       "      <td>...</td>\n",
       "      <td>...</td>\n",
       "      <td>...</td>\n",
       "      <td>...</td>\n",
       "      <td>...</td>\n",
       "      <td>...</td>\n",
       "      <td>...</td>\n",
       "      <td>...</td>\n",
       "      <td>...</td>\n",
       "      <td>...</td>\n",
       "      <td>...</td>\n",
       "      <td>...</td>\n",
       "      <td>...</td>\n",
       "    </tr>\n",
       "    <tr>\n",
       "      <th>3023690</th>\n",
       "      <td>0101000020E6100000253C2510C4CE52C0FD6C608205F8...</td>\n",
       "      <td>213015</td>\n",
       "      <td>0101000020110F000049B016455DF25FC11681C4200E87...</td>\n",
       "      <td>227016</td>\n",
       "      <td>12</td>\n",
       "      <td>P</td>\n",
       "      <td>2006-01-01 05:05:00+00</td>\n",
       "      <td>2006-01-01</td>\n",
       "      <td>00:05:00</td>\n",
       "      <td>0.0</td>\n",
       "      <td>200612000011</td>\n",
       "      <td>1700 BLOCK S 58TH ST</td>\n",
       "      <td>1500</td>\n",
       "      <td>Weapon Violations</td>\n",
       "      <td>-75.230717</td>\n",
       "      <td>39.937668</td>\n",
       "    </tr>\n",
       "    <tr>\n",
       "      <th>3023691</th>\n",
       "      <td>0101000020E6100000E4166F3BDFCE52C01D9E90630CFA...</td>\n",
       "      <td>212954</td>\n",
       "      <td>0101000020110F0000C395586B8BF25FC1125A71F14C89...</td>\n",
       "      <td>232693</td>\n",
       "      <td>18</td>\n",
       "      <td>Q</td>\n",
       "      <td>2006-01-01 05:04:00+00</td>\n",
       "      <td>2006-01-01</td>\n",
       "      <td>00:04:00</td>\n",
       "      <td>0.0</td>\n",
       "      <td>200618000007</td>\n",
       "      <td>400 BLOCK S 55TH ST</td>\n",
       "      <td>1500</td>\n",
       "      <td>Weapon Violations</td>\n",
       "      <td>-75.232375</td>\n",
       "      <td>39.953503</td>\n",
       "    </tr>\n",
       "    <tr>\n",
       "      <th>3023692</th>\n",
       "      <td>0101000020E6100000729AB291F3C952C078026918A1F8...</td>\n",
       "      <td>111028</td>\n",
       "      <td>0101000020110F00008C4141C12FEA5FC1FAA9EC78BA87...</td>\n",
       "      <td>113325</td>\n",
       "      <td>3</td>\n",
       "      <td>I</td>\n",
       "      <td>2006-01-01 05:02:00+00</td>\n",
       "      <td>2006-01-01</td>\n",
       "      <td>00:02:00</td>\n",
       "      <td>0.0</td>\n",
       "      <td>200603000001</td>\n",
       "      <td>S 08TH ST  / SOUTH ST</td>\n",
       "      <td>2600</td>\n",
       "      <td>All Other Offenses</td>\n",
       "      <td>-75.155491</td>\n",
       "      <td>39.942416</td>\n",
       "    </tr>\n",
       "    <tr>\n",
       "      <th>3023693</th>\n",
       "      <td>0101000020E6100000F1F87276DDCE52C0F1C6D50A4BFB...</td>\n",
       "      <td>142579</td>\n",
       "      <td>0101000020110F0000EDDCE76988F25FC1A2977403AE8A...</td>\n",
       "      <td>144878</td>\n",
       "      <td>19</td>\n",
       "      <td>R</td>\n",
       "      <td>2006-01-01 05:02:00+00</td>\n",
       "      <td>2006-01-01</td>\n",
       "      <td>00:02:00</td>\n",
       "      <td>0.0</td>\n",
       "      <td>200619000047</td>\n",
       "      <td>5500 BLOCK CHERRY ST</td>\n",
       "      <td>800</td>\n",
       "      <td>Other Assaults</td>\n",
       "      <td>-75.232267</td>\n",
       "      <td>39.963228</td>\n",
       "    </tr>\n",
       "    <tr>\n",
       "      <th>3023694</th>\n",
       "      <td>0101000020E6100000729AB291F3C952C078026918A1F8...</td>\n",
       "      <td>111027</td>\n",
       "      <td>0101000020110F00008C4141C12FEA5FC1FAA9EC78BA87...</td>\n",
       "      <td>113324</td>\n",
       "      <td>3</td>\n",
       "      <td>I</td>\n",
       "      <td>2006-01-01 05:00:00+00</td>\n",
       "      <td>2006-01-01</td>\n",
       "      <td>00:00:00</td>\n",
       "      <td>0.0</td>\n",
       "      <td>200603000002</td>\n",
       "      <td>S 08TH ST  / SOUTH ST</td>\n",
       "      <td>2600</td>\n",
       "      <td>All Other Offenses</td>\n",
       "      <td>-75.155491</td>\n",
       "      <td>39.942416</td>\n",
       "    </tr>\n",
       "  </tbody>\n",
       "</table>\n",
       "<p>3023695 rows × 16 columns</p>\n",
       "</div>"
      ],
      "text/plain": [
       "                                                  the_geom  cartodb_id  \\\n",
       "0        0101000020E6100000D838EED62ABF52C054C37E4FAC08...     3023575   \n",
       "1        0101000020E6100000100DE60ACACA52C006348DFD1707...     3023458   \n",
       "2        0101000020E6100000484E899810C952C08209922D0107...     3023423   \n",
       "3        0101000020E6100000C79AD35D80CA52C0FFF06FA75FFE...     3023518   \n",
       "4        0101000020E6100000B7EF728DA6CE52C0E392FCEB8906...     3023485   \n",
       "...                                                    ...         ...   \n",
       "3023690  0101000020E6100000253C2510C4CE52C0FD6C608205F8...      213015   \n",
       "3023691  0101000020E6100000E4166F3BDFCE52C01D9E90630CFA...      212954   \n",
       "3023692  0101000020E6100000729AB291F3C952C078026918A1F8...      111028   \n",
       "3023693  0101000020E6100000F1F87276DDCE52C0F1C6D50A4BFB...      142579   \n",
       "3023694  0101000020E6100000729AB291F3C952C078026918A1F8...      111027   \n",
       "\n",
       "                                      the_geom_webmercator  objectid  dc_dist  \\\n",
       "0        0101000020110F00009786C060DED75FC1EFEEAA698499...   6399303        8   \n",
       "1        0101000020110F00002B87430F9CEB5FC1D749BDBEC397...   6391896       14   \n",
       "2        0101000020110F00001F97CA37AEE85FC117CED26EAA97...   6392800       35   \n",
       "3        0101000020110F00000ABED5E91EEB5FC1FE0D6804188E...   6394818       22   \n",
       "4        0101000020110F00002D2BAD242BF25FC17F6AF01C2697...   6399017        5   \n",
       "...                                                    ...       ...      ...   \n",
       "3023690  0101000020110F000049B016455DF25FC11681C4200E87...    227016       12   \n",
       "3023691  0101000020110F0000C395586B8BF25FC1125A71F14C89...    232693       18   \n",
       "3023692  0101000020110F00008C4141C12FEA5FC1FAA9EC78BA87...    113325        3   \n",
       "3023693  0101000020110F0000EDDCE76988F25FC1A2977403AE8A...    144878       19   \n",
       "3023694  0101000020110F00008C4141C12FEA5FC1FAA9EC78BA87...    113324        3   \n",
       "\n",
       "        psa      dispatch_date_time dispatch_date dispatch_time  hour_  \\\n",
       "0         2  2023-02-10 01:54:00+00    2023-02-09      20:54:00    NaN   \n",
       "1         1  2023-02-10 01:43:00+00    2023-02-09      20:43:00    NaN   \n",
       "2         1  2023-02-10 01:33:00+00    2023-02-09      20:33:00    NaN   \n",
       "3         1  2023-02-10 01:19:00+00    2023-02-09      20:19:00    NaN   \n",
       "4         3  2023-02-10 00:58:00+00    2023-02-09      19:58:00    NaN   \n",
       "...      ..                     ...           ...           ...    ...   \n",
       "3023690   P  2006-01-01 05:05:00+00    2006-01-01      00:05:00    0.0   \n",
       "3023691   Q  2006-01-01 05:04:00+00    2006-01-01      00:04:00    0.0   \n",
       "3023692   I  2006-01-01 05:02:00+00    2006-01-01      00:02:00    0.0   \n",
       "3023693   R  2006-01-01 05:02:00+00    2006-01-01      00:02:00    0.0   \n",
       "3023694   I  2006-01-01 05:00:00+00    2006-01-01      00:00:00    0.0   \n",
       "\n",
       "               dc_key               location_block  ucr_general  \\\n",
       "0        202308004815     3700 BLOCK S HEREFORD LA          800   \n",
       "1        202314007169         6300 BLOCK MILTON ST         2600   \n",
       "2        202335009116        6600 BLOCK N BROAD ST          800   \n",
       "3        202322008012  1800 BLOCK W SUSQUEHANNA AV         1800   \n",
       "4        202305001798            600 BLOCK RENZ ST         1100   \n",
       "...               ...                          ...          ...   \n",
       "3023690  200612000011         1700 BLOCK S 58TH ST         1500   \n",
       "3023691  200618000007          400 BLOCK S 55TH ST         1500   \n",
       "3023692  200603000001        S 08TH ST  / SOUTH ST         2600   \n",
       "3023693  200619000047         5500 BLOCK CHERRY ST          800   \n",
       "3023694  200603000002        S 08TH ST  / SOUTH ST         2600   \n",
       "\n",
       "                      text_general_code    point_x    point_y  \n",
       "0                        Other Assaults -74.986990  40.067758  \n",
       "1                    All Other Offenses -75.168582  40.055420  \n",
       "2                        Other Assaults -75.141638  40.054723  \n",
       "3        Narcotic / Drug Law Violations -75.164085  39.987294  \n",
       "4                                 Fraud -75.228916  40.051084  \n",
       "...                                 ...        ...        ...  \n",
       "3023690               Weapon Violations -75.230717  39.937668  \n",
       "3023691               Weapon Violations -75.232375  39.953503  \n",
       "3023692              All Other Offenses -75.155491  39.942416  \n",
       "3023693                  Other Assaults -75.232267  39.963228  \n",
       "3023694              All Other Offenses -75.155491  39.942416  \n",
       "\n",
       "[3023695 rows x 16 columns]"
      ]
     },
     "execution_count": 3,
     "metadata": {},
     "output_type": "execute_result"
    }
   ],
   "source": [
    "df = pd.read_csv('cartodb-query.csv')\n",
    "df"
   ]
  },
  {
   "cell_type": "code",
   "execution_count": 4,
   "id": "39a73d4f",
   "metadata": {},
   "outputs": [
    {
     "name": "stdout",
     "output_type": "stream",
     "text": [
      "<class 'pandas.core.frame.DataFrame'>\n",
      "RangeIndex: 3023695 entries, 0 to 3023694\n",
      "Data columns (total 16 columns):\n",
      " #   Column                Dtype  \n",
      "---  ------                -----  \n",
      " 0   the_geom              object \n",
      " 1   cartodb_id            int64  \n",
      " 2   the_geom_webmercator  object \n",
      " 3   objectid              int64  \n",
      " 4   dc_dist               int64  \n",
      " 5   psa                   object \n",
      " 6   dispatch_date_time    object \n",
      " 7   dispatch_date         object \n",
      " 8   dispatch_time         object \n",
      " 9   hour_                 float64\n",
      " 10  dc_key                int64  \n",
      " 11  location_block        object \n",
      " 12  ucr_general           int64  \n",
      " 13  text_general_code     object \n",
      " 14  point_x               float64\n",
      " 15  point_y               float64\n",
      "dtypes: float64(3), int64(5), object(8)\n",
      "memory usage: 369.1+ MB\n"
     ]
    }
   ],
   "source": [
    "df.info()"
   ]
  },
  {
   "cell_type": "markdown",
   "id": "114c82b5",
   "metadata": {},
   "source": [
    "## Data Cleaning"
   ]
  },
  {
   "cell_type": "markdown",
   "id": "52628f09",
   "metadata": {},
   "source": [
    "**Droping Columns**"
   ]
  },
  {
   "cell_type": "code",
   "execution_count": 5,
   "id": "46ccb02e",
   "metadata": {},
   "outputs": [
    {
     "data": {
      "text/plain": [
       "Index(['the_geom', 'cartodb_id', 'the_geom_webmercator', 'objectid', 'dc_dist',\n",
       "       'psa', 'dispatch_date_time', 'dispatch_date', 'dispatch_time', 'hour_',\n",
       "       'dc_key', 'location_block', 'ucr_general', 'text_general_code',\n",
       "       'point_x', 'point_y'],\n",
       "      dtype='object')"
      ]
     },
     "execution_count": 5,
     "metadata": {},
     "output_type": "execute_result"
    }
   ],
   "source": [
    "df.columns"
   ]
  },
  {
   "cell_type": "code",
   "execution_count": 6,
   "id": "cb72645b",
   "metadata": {},
   "outputs": [],
   "source": [
    "df = df.drop(columns=['the_geom', 'cartodb_id', 'the_geom_webmercator', 'objectid', 'dc_dist',\n",
    "       'psa', 'dispatch_date_time', 'hour_',\n",
    "       'dc_key', 'ucr_general',])"
   ]
  },
  {
   "cell_type": "markdown",
   "id": "85dac65e",
   "metadata": {},
   "source": [
    "**Dropping Rows**"
   ]
  },
  {
   "cell_type": "code",
   "execution_count": 8,
   "id": "40779370",
   "metadata": {},
   "outputs": [
    {
     "data": {
      "text/plain": [
       "dispatch_date            0\n",
       "dispatch_time            0\n",
       "location_block         129\n",
       "text_general_code        0\n",
       "point_x              44158\n",
       "point_y              44158\n",
       "dtype: int64"
      ]
     },
     "execution_count": 8,
     "metadata": {},
     "output_type": "execute_result"
    }
   ],
   "source": [
    "df.isnull().sum()"
   ]
  },
  {
   "cell_type": "markdown",
   "id": "9ab9f520",
   "metadata": {},
   "source": [
    "**drop rows if `NaN`**"
   ]
  },
  {
   "cell_type": "code",
   "execution_count": 9,
   "id": "3867af22",
   "metadata": {},
   "outputs": [],
   "source": [
    "df = df[df['point_x'].notna()]"
   ]
  },
  {
   "cell_type": "code",
   "execution_count": 10,
   "id": "56e82569",
   "metadata": {},
   "outputs": [
    {
     "data": {
      "text/plain": [
       "dispatch_date         0\n",
       "dispatch_time         0\n",
       "location_block       58\n",
       "text_general_code     0\n",
       "point_x               0\n",
       "point_y               0\n",
       "dtype: int64"
      ]
     },
     "execution_count": 10,
     "metadata": {},
     "output_type": "execute_result"
    }
   ],
   "source": [
    "df.isnull().sum() #verify that NaN values are dropped"
   ]
  },
  {
   "cell_type": "code",
   "execution_count": 11,
   "id": "3807f1b7",
   "metadata": {},
   "outputs": [
    {
     "data": {
      "text/plain": [
       "array(['Other Assaults', 'All Other Offenses',\n",
       "       'Narcotic / Drug Law Violations', 'Fraud', 'Thefts',\n",
       "       'Aggravated Assault Firearm', 'Robbery Firearm',\n",
       "       'Vandalism/Criminal Mischief', 'Weapon Violations',\n",
       "       'Motor Vehicle Theft', 'Theft from Vehicle',\n",
       "       'Aggravated Assault No Firearm', 'Burglary Non-Residential',\n",
       "       'Rape', 'Burglary Residential', 'Receiving Stolen Property',\n",
       "       'Robbery No Firearm', 'Disorderly Conduct',\n",
       "       'Other Sex Offenses (Not Commercialized)',\n",
       "       'DRIVING UNDER THE INFLUENCE', 'Arson',\n",
       "       'Offenses Against Family and Children',\n",
       "       'Forgery and Counterfeiting', 'Embezzlement', 'Public Drunkenness',\n",
       "       'Liquor Law Violations', 'Homicide - Criminal',\n",
       "       'Homicide - Criminal ', 'Prostitution and Commercialized Vice',\n",
       "       'Homicide - Justifiable ', 'Gambling Violations',\n",
       "       'Vagrancy/Loitering', 'Homicide - Gross Negligence'], dtype=object)"
      ]
     },
     "execution_count": 11,
     "metadata": {},
     "output_type": "execute_result"
    }
   ],
   "source": [
    "df['text_general_code'].unique()"
   ]
  },
  {
   "cell_type": "code",
   "execution_count": 12,
   "id": "9802090a",
   "metadata": {},
   "outputs": [],
   "source": [
    "df.columns = df.columns.str.replace('text_general_code', 'crime_category')"
   ]
  },
  {
   "cell_type": "markdown",
   "id": "b0144622",
   "metadata": {},
   "source": [
    "## Filter Data 2022"
   ]
  },
  {
   "cell_type": "code",
   "execution_count": 37,
   "id": "1ac12388",
   "metadata": {},
   "outputs": [
    {
     "data": {
      "text/html": [
       "<div>\n",
       "<style scoped>\n",
       "    .dataframe tbody tr th:only-of-type {\n",
       "        vertical-align: middle;\n",
       "    }\n",
       "\n",
       "    .dataframe tbody tr th {\n",
       "        vertical-align: top;\n",
       "    }\n",
       "\n",
       "    .dataframe thead th {\n",
       "        text-align: right;\n",
       "    }\n",
       "</style>\n",
       "<table border=\"1\" class=\"dataframe\">\n",
       "  <thead>\n",
       "    <tr style=\"text-align: right;\">\n",
       "      <th></th>\n",
       "      <th>dispatch_date</th>\n",
       "      <th>dispatch_time</th>\n",
       "      <th>location_block</th>\n",
       "      <th>crime_category</th>\n",
       "      <th>point_x</th>\n",
       "      <th>point_y</th>\n",
       "    </tr>\n",
       "  </thead>\n",
       "  <tbody>\n",
       "    <tr>\n",
       "      <th>17540</th>\n",
       "      <td>2022-12-31</td>\n",
       "      <td>23:56:00</td>\n",
       "      <td>1300 BLOCK W OLNEY AV</td>\n",
       "      <td>All Other Offenses</td>\n",
       "      <td>-75.142990</td>\n",
       "      <td>40.038468</td>\n",
       "    </tr>\n",
       "    <tr>\n",
       "      <th>17541</th>\n",
       "      <td>2022-12-31</td>\n",
       "      <td>23:56:00</td>\n",
       "      <td>1300 BLOCK W OLNEY AV</td>\n",
       "      <td>All Other Offenses</td>\n",
       "      <td>-75.142990</td>\n",
       "      <td>40.038468</td>\n",
       "    </tr>\n",
       "    <tr>\n",
       "      <th>17542</th>\n",
       "      <td>2022-12-31</td>\n",
       "      <td>23:53:00</td>\n",
       "      <td>6300 BLOCK MARTINS MILL RD</td>\n",
       "      <td>Robbery No Firearm</td>\n",
       "      <td>-75.091059</td>\n",
       "      <td>40.046574</td>\n",
       "    </tr>\n",
       "    <tr>\n",
       "      <th>17543</th>\n",
       "      <td>2022-12-31</td>\n",
       "      <td>23:53:00</td>\n",
       "      <td>4000 BLOCK LANCASTER AV</td>\n",
       "      <td>Vandalism/Criminal Mischief</td>\n",
       "      <td>-75.205298</td>\n",
       "      <td>39.965255</td>\n",
       "    </tr>\n",
       "    <tr>\n",
       "      <th>17544</th>\n",
       "      <td>2022-12-31</td>\n",
       "      <td>23:43:00</td>\n",
       "      <td>MORRELL AV &amp; W CROWN AV</td>\n",
       "      <td>All Other Offenses</td>\n",
       "      <td>-74.988342</td>\n",
       "      <td>40.067802</td>\n",
       "    </tr>\n",
       "    <tr>\n",
       "      <th>...</th>\n",
       "      <td>...</td>\n",
       "      <td>...</td>\n",
       "      <td>...</td>\n",
       "      <td>...</td>\n",
       "      <td>...</td>\n",
       "      <td>...</td>\n",
       "    </tr>\n",
       "    <tr>\n",
       "      <th>170718</th>\n",
       "      <td>2022-01-01</td>\n",
       "      <td>00:12:00</td>\n",
       "      <td>1900 BLOCK N FRANKLIN ST</td>\n",
       "      <td>Weapon Violations</td>\n",
       "      <td>-75.147117</td>\n",
       "      <td>39.981327</td>\n",
       "    </tr>\n",
       "    <tr>\n",
       "      <th>170719</th>\n",
       "      <td>2022-01-01</td>\n",
       "      <td>00:12:00</td>\n",
       "      <td>1900 BLOCK N 25TH ST</td>\n",
       "      <td>Aggravated Assault Firearm</td>\n",
       "      <td>-75.175963</td>\n",
       "      <td>39.985499</td>\n",
       "    </tr>\n",
       "    <tr>\n",
       "      <th>170720</th>\n",
       "      <td>2022-01-01</td>\n",
       "      <td>00:03:00</td>\n",
       "      <td>3600 BLOCK W CROWN AV</td>\n",
       "      <td>Weapon Violations</td>\n",
       "      <td>-74.990633</td>\n",
       "      <td>40.068643</td>\n",
       "    </tr>\n",
       "    <tr>\n",
       "      <th>170721</th>\n",
       "      <td>2022-01-01</td>\n",
       "      <td>00:00:00</td>\n",
       "      <td>100 BLOCK E LURAY ST</td>\n",
       "      <td>Homicide - Criminal</td>\n",
       "      <td>-75.123342</td>\n",
       "      <td>40.020612</td>\n",
       "    </tr>\n",
       "    <tr>\n",
       "      <th>170722</th>\n",
       "      <td>2022-01-01</td>\n",
       "      <td>00:00:00</td>\n",
       "      <td>1600 BLOCK  CECIL B MOORE A</td>\n",
       "      <td>Homicide - Criminal</td>\n",
       "      <td>-75.161366</td>\n",
       "      <td>39.979096</td>\n",
       "    </tr>\n",
       "  </tbody>\n",
       "</table>\n",
       "<p>150644 rows × 6 columns</p>\n",
       "</div>"
      ],
      "text/plain": [
       "       dispatch_date dispatch_time               location_block  \\\n",
       "17540     2022-12-31      23:56:00        1300 BLOCK W OLNEY AV   \n",
       "17541     2022-12-31      23:56:00        1300 BLOCK W OLNEY AV   \n",
       "17542     2022-12-31      23:53:00   6300 BLOCK MARTINS MILL RD   \n",
       "17543     2022-12-31      23:53:00      4000 BLOCK LANCASTER AV   \n",
       "17544     2022-12-31      23:43:00     MORRELL AV & W CROWN AV    \n",
       "...              ...           ...                          ...   \n",
       "170718    2022-01-01      00:12:00     1900 BLOCK N FRANKLIN ST   \n",
       "170719    2022-01-01      00:12:00         1900 BLOCK N 25TH ST   \n",
       "170720    2022-01-01      00:03:00        3600 BLOCK W CROWN AV   \n",
       "170721    2022-01-01      00:00:00         100 BLOCK E LURAY ST   \n",
       "170722    2022-01-01      00:00:00  1600 BLOCK  CECIL B MOORE A   \n",
       "\n",
       "                     crime_category    point_x    point_y  \n",
       "17540            All Other Offenses -75.142990  40.038468  \n",
       "17541            All Other Offenses -75.142990  40.038468  \n",
       "17542            Robbery No Firearm -75.091059  40.046574  \n",
       "17543   Vandalism/Criminal Mischief -75.205298  39.965255  \n",
       "17544            All Other Offenses -74.988342  40.067802  \n",
       "...                             ...        ...        ...  \n",
       "170718            Weapon Violations -75.147117  39.981327  \n",
       "170719   Aggravated Assault Firearm -75.175963  39.985499  \n",
       "170720            Weapon Violations -74.990633  40.068643  \n",
       "170721          Homicide - Criminal -75.123342  40.020612  \n",
       "170722          Homicide - Criminal -75.161366  39.979096  \n",
       "\n",
       "[150644 rows x 6 columns]"
      ]
     },
     "execution_count": 37,
     "metadata": {},
     "output_type": "execute_result"
    }
   ],
   "source": [
    "year_2022 = df[(df['dispatch_date'] >= '2022-01-01') & (df['dispatch_date'] < '2023-01-01')]\n",
    "year_2022"
   ]
  },
  {
   "cell_type": "markdown",
   "id": "d945600a",
   "metadata": {},
   "source": [
    "### Count of each crime_category"
   ]
  },
  {
   "cell_type": "code",
   "execution_count": 91,
   "id": "811e5dfe",
   "metadata": {},
   "outputs": [
    {
     "data": {
      "text/plain": [
       "Thefts                                     3563\n",
       "Other Assaults                             2671\n",
       "Motor Vehicle Theft                        2338\n",
       "Vandalism/Criminal Mischief                1730\n",
       "Theft from Vehicle                         1434\n",
       "All Other Offenses                         1242\n",
       "Fraud                                       873\n",
       "Aggravated Assault No Firearm               561\n",
       "Burglary Residential                        371\n",
       "Aggravated Assault Firearm                  369\n",
       "Weapon Violations                           342\n",
       "Robbery Firearm                             312\n",
       "Robbery No Firearm                          293\n",
       "Narcotic / Drug Law Violations              292\n",
       "Burglary Non-Residential                    178\n",
       "Receiving Stolen Property                   159\n",
       "Other Sex Offenses (Not Commercialized)     149\n",
       "Rape                                         75\n",
       "DRIVING UNDER THE INFLUENCE                  73\n",
       "Arson                                        58\n",
       "Offenses Against Family and Children         39\n",
       "Forgery and Counterfeiting                   37\n",
       "Disorderly Conduct                           34\n",
       "Homicide - Criminal                          29\n",
       "Prostitution and Commercialized Vice         23\n",
       "Embezzlement                                 22\n",
       "Liquor Law Violations                        17\n",
       "Homicide - Criminal                           7\n",
       "Public Drunkenness                            4\n",
       "Name: crime_category, dtype: int64"
      ]
     },
     "execution_count": 91,
     "metadata": {},
     "output_type": "execute_result"
    }
   ],
   "source": [
    "year_2023['crime_category'].value_counts()"
   ]
  },
  {
   "cell_type": "markdown",
   "id": "7e272ddb",
   "metadata": {},
   "source": [
    "## Filter Data 2023"
   ]
  },
  {
   "cell_type": "code",
   "execution_count": 104,
   "id": "e237f1b1",
   "metadata": {},
   "outputs": [],
   "source": [
    "year_2023 = df[(df['dispatch_date'] >= '2023-01-01')]"
   ]
  },
  {
   "cell_type": "markdown",
   "id": "882274cc",
   "metadata": {},
   "source": [
    "### 2023 crime data simplified\n",
    "**Grouping into: theft, assault, drugs, homicide, rape**"
   ]
  },
  {
   "cell_type": "code",
   "execution_count": 105,
   "id": "da5119f4",
   "metadata": {},
   "outputs": [],
   "source": [
    "year_2023_simplified = year_2023.replace(to_replace=['Thefts', 'Theft from Vehicle', 'Motor Vehicle Theft'], value='Theft')\n",
    "year_2023_simplified = year_2023_simplified.replace(to_replace=['Other Assaults', 'Aggravated Assault No Firearm', 'Aggravated Assault Firearm'], value='Assault')\n",
    "year_2023_simplified = year_2023_simplified.replace(to_replace=['Robbery Firearm', 'Robbery No Firearm'], value='Robbery')\n",
    "year_2023_simplified = year_2023_simplified.replace(to_replace=['Narcotic / Drug Law Violations'], value='Drug Violation')\n",
    "year_2023_simplified = year_2023_simplified.replace(to_replace=['Homicide - Criminal'], value='Homicide')"
   ]
  },
  {
   "cell_type": "markdown",
   "id": "6e21df5f",
   "metadata": {},
   "source": [
    "**Create seperate DataFrame for each simplified crime category**"
   ]
  },
  {
   "cell_type": "code",
   "execution_count": 108,
   "id": "b3de0265",
   "metadata": {},
   "outputs": [],
   "source": [
    "values = ['Theft', 'Assault', 'Homicide', 'Drug Violation', 'Robbery', 'Rape']\n",
    "year_2023_SIMPLIFIED = year_2023_simplified[year_2023_simplified['crime_category'].isin(values)]"
   ]
  },
  {
   "cell_type": "code",
   "execution_count": 106,
   "id": "323040ee",
   "metadata": {},
   "outputs": [],
   "source": [
    "year_2023_Theft = year_2023_simplified[year_2023_simplified['crime_category'].isin(['Theft'])]\n",
    "year_2023_Assault = year_2023_simplified[year_2023_simplified['crime_category'].isin(['Assault'])]\n",
    "year_2023_Homicide = year_2023_simplified[year_2023_simplified['crime_category'].isin(['Homicide'])]\n",
    "year_2023_Drug_Violation = year_2023_simplified[year_2023_simplified['crime_category'].isin(['Drug Violation'])]\n",
    "year_2023_Robbery = year_2023_simplified[year_2023_simplified['crime_category'].isin(['Robbery'])]\n",
    "year_2023_Rape = year_2023_simplified[year_2023_simplified['crime_category'].isin(['Rape'])]"
   ]
  },
  {
   "cell_type": "code",
   "execution_count": 101,
   "id": "2c5d9904",
   "metadata": {},
   "outputs": [
    {
     "data": {
      "text/html": [
       "<div>\n",
       "<style scoped>\n",
       "    .dataframe tbody tr th:only-of-type {\n",
       "        vertical-align: middle;\n",
       "    }\n",
       "\n",
       "    .dataframe tbody tr th {\n",
       "        vertical-align: top;\n",
       "    }\n",
       "\n",
       "    .dataframe thead th {\n",
       "        text-align: right;\n",
       "    }\n",
       "</style>\n",
       "<table border=\"1\" class=\"dataframe\">\n",
       "  <thead>\n",
       "    <tr style=\"text-align: right;\">\n",
       "      <th></th>\n",
       "      <th>dispatch_date</th>\n",
       "      <th>dispatch_time</th>\n",
       "      <th>location_block</th>\n",
       "      <th>crime_category</th>\n",
       "      <th>point_x</th>\n",
       "      <th>point_y</th>\n",
       "    </tr>\n",
       "  </thead>\n",
       "  <tbody>\n",
       "    <tr>\n",
       "      <th>63</th>\n",
       "      <td>2023-02-09</td>\n",
       "      <td>17:14:00</td>\n",
       "      <td>900 BLOCK KENMORE RD</td>\n",
       "      <td>Rape</td>\n",
       "      <td>-75.251723</td>\n",
       "      <td>39.976580</td>\n",
       "    </tr>\n",
       "    <tr>\n",
       "      <th>66</th>\n",
       "      <td>2023-02-09</td>\n",
       "      <td>17:11:00</td>\n",
       "      <td>300 BLOCK W FISHER AV</td>\n",
       "      <td>Rape</td>\n",
       "      <td>-75.128964</td>\n",
       "      <td>40.031384</td>\n",
       "    </tr>\n",
       "    <tr>\n",
       "      <th>421</th>\n",
       "      <td>2023-02-08</td>\n",
       "      <td>20:07:00</td>\n",
       "      <td>8000 BLOCK GILBERT ST</td>\n",
       "      <td>Rape</td>\n",
       "      <td>-75.171778</td>\n",
       "      <td>40.072448</td>\n",
       "    </tr>\n",
       "    <tr>\n",
       "      <th>545</th>\n",
       "      <td>2023-02-08</td>\n",
       "      <td>16:20:00</td>\n",
       "      <td>8300 BLOCK JEANES ST</td>\n",
       "      <td>Rape</td>\n",
       "      <td>-75.077718</td>\n",
       "      <td>40.081283</td>\n",
       "    </tr>\n",
       "    <tr>\n",
       "      <th>1240</th>\n",
       "      <td>2023-02-07</td>\n",
       "      <td>04:56:00</td>\n",
       "      <td>S 10TH ST &amp; SPRUCE ST</td>\n",
       "      <td>Rape</td>\n",
       "      <td>-75.157909</td>\n",
       "      <td>39.946135</td>\n",
       "    </tr>\n",
       "    <tr>\n",
       "      <th>...</th>\n",
       "      <td>...</td>\n",
       "      <td>...</td>\n",
       "      <td>...</td>\n",
       "      <td>...</td>\n",
       "      <td>...</td>\n",
       "      <td>...</td>\n",
       "    </tr>\n",
       "    <tr>\n",
       "      <th>16359</th>\n",
       "      <td>2023-01-03</td>\n",
       "      <td>18:00:00</td>\n",
       "      <td>6800 BLOCK SOUDER ST</td>\n",
       "      <td>Rape</td>\n",
       "      <td>-75.068951</td>\n",
       "      <td>40.042890</td>\n",
       "    </tr>\n",
       "    <tr>\n",
       "      <th>16387</th>\n",
       "      <td>2023-01-03</td>\n",
       "      <td>16:56:00</td>\n",
       "      <td>2000 BLOCK N PARK AV</td>\n",
       "      <td>Rape</td>\n",
       "      <td>-75.155461</td>\n",
       "      <td>39.983825</td>\n",
       "    </tr>\n",
       "    <tr>\n",
       "      <th>16916</th>\n",
       "      <td>2023-01-02</td>\n",
       "      <td>16:02:00</td>\n",
       "      <td>600 BLOCK N BROAD ST</td>\n",
       "      <td>Rape</td>\n",
       "      <td>-75.160514</td>\n",
       "      <td>39.964555</td>\n",
       "    </tr>\n",
       "    <tr>\n",
       "      <th>17203</th>\n",
       "      <td>2023-01-01</td>\n",
       "      <td>22:10:00</td>\n",
       "      <td>4200 BLOCK FRANKFORD AV</td>\n",
       "      <td>Rape</td>\n",
       "      <td>-75.089902</td>\n",
       "      <td>40.009118</td>\n",
       "    </tr>\n",
       "    <tr>\n",
       "      <th>17529</th>\n",
       "      <td>2023-01-01</td>\n",
       "      <td>00:38:00</td>\n",
       "      <td>100 BLOCK E GIRARD AV</td>\n",
       "      <td>Rape</td>\n",
       "      <td>-75.134194</td>\n",
       "      <td>39.968628</td>\n",
       "    </tr>\n",
       "  </tbody>\n",
       "</table>\n",
       "<p>75 rows × 6 columns</p>\n",
       "</div>"
      ],
      "text/plain": [
       "      dispatch_date dispatch_time           location_block crime_category  \\\n",
       "63       2023-02-09      17:14:00     900 BLOCK KENMORE RD           Rape   \n",
       "66       2023-02-09      17:11:00    300 BLOCK W FISHER AV           Rape   \n",
       "421      2023-02-08      20:07:00    8000 BLOCK GILBERT ST           Rape   \n",
       "545      2023-02-08      16:20:00     8300 BLOCK JEANES ST           Rape   \n",
       "1240     2023-02-07      04:56:00   S 10TH ST & SPRUCE ST            Rape   \n",
       "...             ...           ...                      ...            ...   \n",
       "16359    2023-01-03      18:00:00     6800 BLOCK SOUDER ST           Rape   \n",
       "16387    2023-01-03      16:56:00     2000 BLOCK N PARK AV           Rape   \n",
       "16916    2023-01-02      16:02:00     600 BLOCK N BROAD ST           Rape   \n",
       "17203    2023-01-01      22:10:00  4200 BLOCK FRANKFORD AV           Rape   \n",
       "17529    2023-01-01      00:38:00    100 BLOCK E GIRARD AV           Rape   \n",
       "\n",
       "         point_x    point_y  \n",
       "63    -75.251723  39.976580  \n",
       "66    -75.128964  40.031384  \n",
       "421   -75.171778  40.072448  \n",
       "545   -75.077718  40.081283  \n",
       "1240  -75.157909  39.946135  \n",
       "...          ...        ...  \n",
       "16359 -75.068951  40.042890  \n",
       "16387 -75.155461  39.983825  \n",
       "16916 -75.160514  39.964555  \n",
       "17203 -75.089902  40.009118  \n",
       "17529 -75.134194  39.968628  \n",
       "\n",
       "[75 rows x 6 columns]"
      ]
     },
     "execution_count": 101,
     "metadata": {},
     "output_type": "execute_result"
    }
   ],
   "source": [
    "# test\n",
    "year_2023_Rape"
   ]
  },
  {
   "cell_type": "code",
   "execution_count": 115,
   "id": "fc8f1d3b",
   "metadata": {},
   "outputs": [
    {
     "data": {
      "text/plain": [
       "Homicide    29\n",
       "Name: crime_category, dtype: int64"
      ]
     },
     "execution_count": 115,
     "metadata": {},
     "output_type": "execute_result"
    }
   ],
   "source": [
    "year_2023_Homicide['crime_category'].value_counts()"
   ]
  },
  {
   "cell_type": "markdown",
   "id": "d1f0eb33",
   "metadata": {},
   "source": [
    "### Write"
   ]
  },
  {
   "cell_type": "code",
   "execution_count": 17,
   "id": "02f5ee30",
   "metadata": {},
   "outputs": [
    {
     "data": {
      "text/plain": [
       "'C:\\\\Users\\\\hangh\\\\VS Code Workspace\\\\owlhack'"
      ]
     },
     "execution_count": 17,
     "metadata": {},
     "output_type": "execute_result"
    }
   ],
   "source": [
    "pwd"
   ]
  },
  {
   "cell_type": "code",
   "execution_count": 18,
   "id": "5b402da9",
   "metadata": {},
   "outputs": [
    {
     "data": {
      "text/plain": [
       "'C:\\\\Users\\\\hangh\\\\VS Code Workspace\\\\owlhack'"
      ]
     },
     "execution_count": 18,
     "metadata": {},
     "output_type": "execute_result"
    }
   ],
   "source": [
    "import os\n",
    "os.getcwd()"
   ]
  },
  {
   "cell_type": "code",
   "execution_count": 19,
   "id": "2066757f",
   "metadata": {},
   "outputs": [],
   "source": [
    "year_2022.to_csv('Philly Crime Stat 2022.csv', index = True)"
   ]
  },
  {
   "cell_type": "code",
   "execution_count": 107,
   "id": "f34ae79b",
   "metadata": {},
   "outputs": [],
   "source": [
    "year_2023_Theft.to_csv('Philly Crime Stat 2023 THEFT.csv', index = True)\n",
    "year_2023_Assault.to_csv('Philly Crime Stat 2023 ASSAULT.csv', index = True)\n",
    "year_2023_Homicide.to_csv('Philly Crime Stat 2023 HOMICIDE.csv', index = True)\n",
    "year_2023_Drug_Violation.to_csv('Philly Crime Stat 2023 DRUG VIOLATION.csv', index = True)\n",
    "year_2023_Robbery.to_csv('Philly Crime Stat 2023 ROBBERY.csv', index = True)\n",
    "year_2023_Rape.to_csv('Philly Crime Stat 2023 RAPE.csv', index = True)"
   ]
  },
  {
   "cell_type": "code",
   "execution_count": 20,
   "id": "d748707e",
   "metadata": {},
   "outputs": [],
   "source": [
    "year_2023.to_csv('Philly Crime Stat 2023.csv', index = True)"
   ]
  },
  {
   "cell_type": "markdown",
   "id": "7a903824",
   "metadata": {},
   "source": [
    "## Visualization"
   ]
  },
  {
   "cell_type": "code",
   "execution_count": 109,
   "id": "587cb739",
   "metadata": {},
   "outputs": [
    {
     "data": {
      "text/plain": [
       "<AxesSubplot:xlabel='crime_category', ylabel='count'>"
      ]
     },
     "execution_count": 109,
     "metadata": {},
     "output_type": "execute_result"
    },
    {
     "data": {
      "image/png": "[encoded data removed]",
      "text/plain": [
       "<Figure size 640x480 with 1 Axes>"
      ]
     },
     "metadata": {},
     "output_type": "display_data"
    }
   ],
   "source": [
    "sns.countplot(data=year_2023_SIMPLIFIED, x='crime_category')"
   ]
  }
 ],
 "metadata": {
  "kernelspec": {
   "display_name": "Python 3 (ipykernel)",
   "language": "python",
   "name": "python3"
  },
  "language_info": {
   "codemirror_mode": {
    "name": "ipython",
    "version": 3
   },
   "file_extension": ".py",
   "mimetype": "text/x-python",
   "name": "python",
   "nbconvert_exporter": "python",
   "pygments_lexer": "ipython3",
   "version": "3.9.13"
  }
 },
 "nbformat": 4,
 "nbformat_minor": 5
}
